{
  "nbformat": 4,
  "nbformat_minor": 0,
  "metadata": {
    "colab": {
      "name": "NLP_Preprocessing.ipynb",
      "provenance": [],
      "authorship_tag": "ABX9TyMbHeERbZYUh7Ph+EWPyTNJ",
      "include_colab_link": true
    },
    "kernelspec": {
      "name": "python3",
      "display_name": "Python 3"
    }
  },
  "cells": [
    {
      "cell_type": "markdown",
      "metadata": {
        "id": "view-in-github",
        "colab_type": "text"
      },
      "source": [
        "<a href=\"https://colab.research.google.com/github/sidhant0720/Sentiment_Analysis_NLP/blob/master/NLP_Preprocessing.ipynb\" target=\"_parent\"><img src=\"https://colab.research.google.com/assets/colab-badge.svg\" alt=\"Open In Colab\"/></a>"
      ]
    },
    {
      "cell_type": "code",
      "metadata": {
        "id": "O_l-itf6byN_",
        "colab_type": "code",
        "colab": {}
      },
      "source": [
        "import nltk                                # Python library for NLP\n",
        "from nltk.corpus import twitter_samples    # sample Twitter dataset from NLTK\n",
        "import matplotlib.pyplot as plt            # library for visualization\n",
        "import random                              # pseudo-random number generator"
      ],
      "execution_count": 2,
      "outputs": []
    },
    {
      "cell_type": "code",
      "metadata": {
        "id": "UTMCGzUTePOn",
        "colab_type": "code",
        "colab": {
          "base_uri": "https://localhost:8080/",
          "height": 67
        },
        "outputId": "43e2b51c-d409-4bf8-948d-72b29be18ea0"
      },
      "source": [
        "# downloads sample twitter dataset.\n",
        "nltk.download('twitter_samples')"
      ],
      "execution_count": 3,
      "outputs": [
        {
          "output_type": "stream",
          "text": [
            "[nltk_data] Downloading package twitter_samples to /root/nltk_data...\n",
            "[nltk_data]   Unzipping corpora/twitter_samples.zip.\n"
          ],
          "name": "stdout"
        },
        {
          "output_type": "execute_result",
          "data": {
            "text/plain": [
              "True"
            ]
          },
          "metadata": {
            "tags": []
          },
          "execution_count": 3
        }
      ]
    },
    {
      "cell_type": "code",
      "metadata": {
        "id": "TB1hUlNmd4kw",
        "colab_type": "code",
        "colab": {}
      },
      "source": [
        "all_positive_tweets = twitter_samples.strings('positive_tweets.json')\n",
        "all_negative_tweets = twitter_samples.strings('negative_tweets.json')"
      ],
      "execution_count": 4,
      "outputs": []
    },
    {
      "cell_type": "code",
      "metadata": {
        "id": "ZEs7BOUceFLr",
        "colab_type": "code",
        "colab": {
          "base_uri": "https://localhost:8080/",
          "height": 101
        },
        "outputId": "25043a5c-c032-49f5-97e9-90a5bde2e0f5"
      },
      "source": [
        "print('Number of positive tweets: ', len(all_positive_tweets))\n",
        "print('Number of negative tweets: ', len(all_negative_tweets))\n",
        "\n",
        "print('\\nThe type of all_positive_tweets is: ', type(all_positive_tweets))\n",
        "print('The type of a tweet entry is: ', type(all_negative_tweets[0]))\n"
      ],
      "execution_count": 5,
      "outputs": [
        {
          "output_type": "stream",
          "text": [
            "Number of positive tweets:  5000\n",
            "Number of negative tweets:  5000\n",
            "\n",
            "The type of all_positive_tweets is:  <class 'list'>\n",
            "The type of a tweet entry is:  <class 'str'>\n"
          ],
          "name": "stdout"
        }
      ]
    },
    {
      "cell_type": "code",
      "metadata": {
        "id": "NlCflKCYfRVW",
        "colab_type": "code",
        "colab": {
          "base_uri": "https://localhost:8080/",
          "height": 50
        },
        "outputId": "4d6507b0-79ba-415a-d16b-17a86c42d17f"
      },
      "source": [
        "# print positive in greeen\n",
        "print('\\033[92m' + all_positive_tweets[random.randint(0,5000)])\n",
        "\n",
        "# print negative in red\n",
        "print('\\033[91m' + all_negative_tweets[random.randint(0,5000)])"
      ],
      "execution_count": 6,
      "outputs": [
        {
          "output_type": "stream",
          "text": [
            "\u001b[92mI love Baekhyun because I love it when he eyesmiles :)\n",
            "\u001b[91m@BrokenDoll :( i wish i could! so sweet!\n"
          ],
          "name": "stdout"
        }
      ]
    },
    {
      "cell_type": "code",
      "metadata": {
        "id": "TXnlDxeCfa1g",
        "colab_type": "code",
        "colab": {
          "base_uri": "https://localhost:8080/",
          "height": 67
        },
        "outputId": "c9941062-2cb0-46ab-f7e8-15005264d503"
      },
      "source": [
        "nltk.download('stopwords')"
      ],
      "execution_count": 7,
      "outputs": [
        {
          "output_type": "stream",
          "text": [
            "[nltk_data] Downloading package stopwords to /root/nltk_data...\n",
            "[nltk_data]   Unzipping corpora/stopwords.zip.\n"
          ],
          "name": "stdout"
        },
        {
          "output_type": "execute_result",
          "data": {
            "text/plain": [
              "True"
            ]
          },
          "metadata": {
            "tags": []
          },
          "execution_count": 7
        }
      ]
    },
    {
      "cell_type": "code",
      "metadata": {
        "id": "hvivs1bNfnka",
        "colab_type": "code",
        "colab": {}
      },
      "source": [
        "import re                                  # library for regular expression operations\n",
        "import string                              # for string operations\n",
        "\n",
        "from nltk.corpus import stopwords          # module for stop words that come with NLTK\n",
        "from nltk.stem import PorterStemmer        # module for stemming\n",
        "from nltk.tokenize import TweetTokenizer   # module for tokenizing strings"
      ],
      "execution_count": 8,
      "outputs": []
    },
    {
      "cell_type": "markdown",
      "metadata": {
        "id": "3f5Wr_Ni4d9_",
        "colab_type": "text"
      },
      "source": [
        "Noise Removal - removing 'RT' , links , # "
      ]
    },
    {
      "cell_type": "code",
      "metadata": {
        "id": "wjEQDFtffryG",
        "colab_type": "code",
        "colab": {}
      },
      "source": [
        "def RemoveLinksHash (t):\n",
        "  t_cleaned = re.sub(r'^RT[\\s]+', '', t)\n",
        "  t_cleaned = re.sub(r'https?:\\/\\/.*[\\r\\n]*', '', t_cleaned)\n",
        "  t_cleaned = re.sub(r'#', '', t_cleaned)\n",
        "  return(t_cleaned)\n",
        "\n"
      ],
      "execution_count": 9,
      "outputs": []
    },
    {
      "cell_type": "code",
      "metadata": {
        "id": "F9Fpq2pAg6jA",
        "colab_type": "code",
        "colab": {
          "base_uri": "https://localhost:8080/",
          "height": 70
        },
        "outputId": "a543ea33-2a43-406c-a1eb-1fe2c1cb7444"
      },
      "source": [
        "test_tweet = all_positive_tweets[2277]\n",
        "print(all_positive_tweets[2277])\n",
        "print(RemoveLinksHash(all_positive_tweets[2277]))\n",
        "test_tweet=RemoveLinksHash(all_positive_tweets[2277])"
      ],
      "execution_count": 12,
      "outputs": [
        {
          "output_type": "stream",
          "text": [
            "My beautiful sunflowers on a sunny Friday morning off :) #sunflowers #favourites #happy #Friday off… https://t.co/3tfYom0N1i\n",
            "My beautiful sunflowers on a sunny Friday morning off :) sunflowers favourites happy Friday off… \n"
          ],
          "name": "stdout"
        }
      ]
    },
    {
      "cell_type": "markdown",
      "metadata": {
        "id": "pTu3iePU6LFv",
        "colab_type": "text"
      },
      "source": [
        "Tokenize the String"
      ]
    },
    {
      "cell_type": "code",
      "metadata": {
        "id": "Xtv-_Z4rhBqi",
        "colab_type": "code",
        "colab": {}
      },
      "source": [
        "def TokenizeTweet(t):\n",
        "  tokenizer = TweetTokenizer(preserve_case=False,strip_handles=True,reduce_len=True)\n",
        "  t_tokens=tokenizer.tokenize(t)\n",
        "  return t_tokens"
      ],
      "execution_count": 15,
      "outputs": []
    },
    {
      "cell_type": "code",
      "metadata": {
        "id": "kdj1ffnM5o9D",
        "colab_type": "code",
        "colab": {
          "base_uri": "https://localhost:8080/",
          "height": 54
        },
        "outputId": "e4375f6e-ab02-426b-b859-282910f3da1d"
      },
      "source": [
        "test_tweet=TokenizeTweet(test_tweet)\n",
        "print(test_tweet)"
      ],
      "execution_count": 16,
      "outputs": [
        {
          "output_type": "stream",
          "text": [
            "['my', 'beautiful', 'sunflowers', 'on', 'a', 'sunny', 'friday', 'morning', 'off', ':)', 'sunflowers', 'favourites', 'happy', 'friday', 'off', '…']\n"
          ],
          "name": "stdout"
        }
      ]
    },
    {
      "cell_type": "markdown",
      "metadata": {
        "id": "eKrGraYw6WtK",
        "colab_type": "text"
      },
      "source": [
        "Remove Stop words and Punctuations"
      ]
    },
    {
      "cell_type": "code",
      "metadata": {
        "id": "WiMBqy2m5_mL",
        "colab_type": "code",
        "colab": {
          "base_uri": "https://localhost:8080/",
          "height": 70
        },
        "outputId": "00613523-879c-44b0-d10d-9a7723d716c8"
      },
      "source": [
        "stopwords_english=stopwords.words('english')\n",
        "print(stopwords_english)\n",
        "print(string.punctuation)"
      ],
      "execution_count": 17,
      "outputs": [
        {
          "output_type": "stream",
          "text": [
            "['i', 'me', 'my', 'myself', 'we', 'our', 'ours', 'ourselves', 'you', \"you're\", \"you've\", \"you'll\", \"you'd\", 'your', 'yours', 'yourself', 'yourselves', 'he', 'him', 'his', 'himself', 'she', \"she's\", 'her', 'hers', 'herself', 'it', \"it's\", 'its', 'itself', 'they', 'them', 'their', 'theirs', 'themselves', 'what', 'which', 'who', 'whom', 'this', 'that', \"that'll\", 'these', 'those', 'am', 'is', 'are', 'was', 'were', 'be', 'been', 'being', 'have', 'has', 'had', 'having', 'do', 'does', 'did', 'doing', 'a', 'an', 'the', 'and', 'but', 'if', 'or', 'because', 'as', 'until', 'while', 'of', 'at', 'by', 'for', 'with', 'about', 'against', 'between', 'into', 'through', 'during', 'before', 'after', 'above', 'below', 'to', 'from', 'up', 'down', 'in', 'out', 'on', 'off', 'over', 'under', 'again', 'further', 'then', 'once', 'here', 'there', 'when', 'where', 'why', 'how', 'all', 'any', 'both', 'each', 'few', 'more', 'most', 'other', 'some', 'such', 'no', 'nor', 'not', 'only', 'own', 'same', 'so', 'than', 'too', 'very', 's', 't', 'can', 'will', 'just', 'don', \"don't\", 'should', \"should've\", 'now', 'd', 'll', 'm', 'o', 're', 've', 'y', 'ain', 'aren', \"aren't\", 'couldn', \"couldn't\", 'didn', \"didn't\", 'doesn', \"doesn't\", 'hadn', \"hadn't\", 'hasn', \"hasn't\", 'haven', \"haven't\", 'isn', \"isn't\", 'ma', 'mightn', \"mightn't\", 'mustn', \"mustn't\", 'needn', \"needn't\", 'shan', \"shan't\", 'shouldn', \"shouldn't\", 'wasn', \"wasn't\", 'weren', \"weren't\", 'won', \"won't\", 'wouldn', \"wouldn't\"]\n",
            "!\"#$%&'()*+,-./:;<=>?@[\\]^_`{|}~\n"
          ],
          "name": "stdout"
        }
      ]
    },
    {
      "cell_type": "code",
      "metadata": {
        "id": "pxNck-nJ6s_v",
        "colab_type": "code",
        "colab": {}
      },
      "source": [
        "def RemoveStopWordsPunctuations(t):\n",
        "  t_updated=[]\n",
        "  for word in t:\n",
        "    if(word not in stopwords_english and word not in string.punctuation):\n",
        "      t_updated.append(word)\n",
        "  return t_updated  "
      ],
      "execution_count": 21,
      "outputs": []
    },
    {
      "cell_type": "code",
      "metadata": {
        "id": "i7JdCGWX7ZVu",
        "colab_type": "code",
        "colab": {
          "base_uri": "https://localhost:8080/",
          "height": 54
        },
        "outputId": "d075226f-5362-4384-8064-919273799486"
      },
      "source": [
        "test_tweet=RemoveStopWordsPunctuations(test_tweet)\n",
        "print(test_tweet)"
      ],
      "execution_count": 23,
      "outputs": [
        {
          "output_type": "stream",
          "text": [
            "['beautiful', 'sunflowers', 'sunny', 'friday', 'morning', ':)', 'sunflowers', 'favourites', 'happy', 'friday', '…']\n"
          ],
          "name": "stdout"
        }
      ]
    },
    {
      "cell_type": "markdown",
      "metadata": {
        "id": "IOjRFrWd8BYD",
        "colab_type": "text"
      },
      "source": [
        "Stemming"
      ]
    },
    {
      "cell_type": "code",
      "metadata": {
        "id": "CsMdyYVr7fTc",
        "colab_type": "code",
        "colab": {}
      },
      "source": [
        "def StemTweet(t):\n",
        "  stemmer = PorterStemmer()\n",
        "  tweet_stem=[]\n",
        "\n",
        "  for word in t:\n",
        "    stem_word=stemmer.stem(word)\n",
        "    tweet_stem.append(stem_word)\n",
        "  return tweet_stem"
      ],
      "execution_count": 25,
      "outputs": []
    },
    {
      "cell_type": "code",
      "metadata": {
        "id": "ejD20Ld181bf",
        "colab_type": "code",
        "colab": {
          "base_uri": "https://localhost:8080/",
          "height": 54
        },
        "outputId": "8671a5b7-4ac0-4a01-e839-1a28b7ab064b"
      },
      "source": [
        "test_tweet=StemTweet(test_tweet)\n",
        "print(test_tweet)"
      ],
      "execution_count": 27,
      "outputs": [
        {
          "output_type": "stream",
          "text": [
            "['beauti', 'sunflow', 'sunni', 'friday', 'morn', ':)', 'sunflow', 'favourit', 'happi', 'friday', '…']\n"
          ],
          "name": "stdout"
        }
      ]
    },
    {
      "cell_type": "code",
      "metadata": {
        "id": "TdmFY_ga8871",
        "colab_type": "code",
        "colab": {}
      },
      "source": [
        ""
      ],
      "execution_count": null,
      "outputs": []
    }
  ]
}