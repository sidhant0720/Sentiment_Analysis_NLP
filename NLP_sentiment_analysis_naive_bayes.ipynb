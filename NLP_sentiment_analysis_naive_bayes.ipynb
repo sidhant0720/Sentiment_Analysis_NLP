{
  "nbformat": 4,
  "nbformat_minor": 0,
  "metadata": {
    "colab": {
      "name": "NLP_sentiment_analysis_naive_bayes.ipynb",
      "provenance": [],
      "collapsed_sections": [],
      "authorship_tag": "ABX9TyNpiOUsrjRxcCuPoHwLFE0q",
      "include_colab_link": true
    },
    "kernelspec": {
      "name": "python3",
      "display_name": "Python 3"
    }
  },
  "cells": [
    {
      "cell_type": "markdown",
      "metadata": {
        "id": "view-in-github",
        "colab_type": "text"
      },
      "source": [
        "<a href=\"https://colab.research.google.com/github/sidhant0720/Sentiment_Analysis_NLP/blob/master/NLP_sentiment_analysis_naive_bayes.ipynb\" target=\"_parent\"><img src=\"https://colab.research.google.com/assets/colab-badge.svg\" alt=\"Open In Colab\"/></a>"
      ]
    },
    {
      "cell_type": "code",
      "metadata": {
        "id": "tR1gmudq2Dcc",
        "colab_type": "code",
        "colab": {}
      },
      "source": [
        "import nltk                                # Python library for NLP\n",
        "from nltk.corpus import twitter_samples    # sample Twitter dataset from NLTK\n",
        "import matplotlib.pyplot as plt            # library for visualization\n",
        "import random     \n",
        "import numpy as np\n",
        "\n",
        "import pdb\n",
        "from nltk.corpus import stopwords, twitter_samples\n",
        "import pandas as pd\n",
        "import string\n",
        "from nltk.tokenize import TweetTokenizer\n",
        "from os import getcwd"
      ],
      "execution_count": 1,
      "outputs": []
    },
    {
      "cell_type": "code",
      "metadata": {
        "id": "arIT2TkE2c6V",
        "colab_type": "code",
        "colab": {
          "base_uri": "https://localhost:8080/",
          "height": 67
        },
        "outputId": "2a7d7d2a-f055-4c97-f8cc-f803e0cc2c83"
      },
      "source": [
        "# downloads sample twitter dataset.\n",
        "nltk.download('twitter_samples')"
      ],
      "execution_count": 2,
      "outputs": [
        {
          "output_type": "stream",
          "text": [
            "[nltk_data] Downloading package twitter_samples to /root/nltk_data...\n",
            "[nltk_data]   Unzipping corpora/twitter_samples.zip.\n"
          ],
          "name": "stdout"
        },
        {
          "output_type": "execute_result",
          "data": {
            "text/plain": [
              "True"
            ]
          },
          "metadata": {
            "tags": []
          },
          "execution_count": 2
        }
      ]
    },
    {
      "cell_type": "code",
      "metadata": {
        "id": "2reIVVlZ2ejR",
        "colab_type": "code",
        "colab": {}
      },
      "source": [
        "all_positive_tweets = twitter_samples.strings('positive_tweets.json')\n",
        "all_negative_tweets = twitter_samples.strings('negative_tweets.json')"
      ],
      "execution_count": 3,
      "outputs": []
    },
    {
      "cell_type": "code",
      "metadata": {
        "id": "q3YoxTAo2hHt",
        "colab_type": "code",
        "colab": {
          "base_uri": "https://localhost:8080/",
          "height": 101
        },
        "outputId": "503c762c-9937-4e52-9442-84b5dff418c0"
      },
      "source": [
        "print('Number of positive tweets: ', len(all_positive_tweets))\n",
        "print('Number of negative tweets: ', len(all_negative_tweets))\n",
        "\n",
        "print('\\nThe type of all_positive_tweets is: ', type(all_positive_tweets))\n",
        "print('The type of a tweet entry is: ', type(all_negative_tweets[0]))\n"
      ],
      "execution_count": 4,
      "outputs": [
        {
          "output_type": "stream",
          "text": [
            "Number of positive tweets:  5000\n",
            "Number of negative tweets:  5000\n",
            "\n",
            "The type of all_positive_tweets is:  <class 'list'>\n",
            "The type of a tweet entry is:  <class 'str'>\n"
          ],
          "name": "stdout"
        }
      ]
    },
    {
      "cell_type": "code",
      "metadata": {
        "id": "EtwvTRR22i_G",
        "colab_type": "code",
        "colab": {
          "base_uri": "https://localhost:8080/",
          "height": 67
        },
        "outputId": "3e25c60d-2df9-4f0c-c97a-21f424ea582c"
      },
      "source": [
        "nltk.download('stopwords')"
      ],
      "execution_count": 5,
      "outputs": [
        {
          "output_type": "stream",
          "text": [
            "[nltk_data] Downloading package stopwords to /root/nltk_data...\n",
            "[nltk_data]   Unzipping corpora/stopwords.zip.\n"
          ],
          "name": "stdout"
        },
        {
          "output_type": "execute_result",
          "data": {
            "text/plain": [
              "True"
            ]
          },
          "metadata": {
            "tags": []
          },
          "execution_count": 5
        }
      ]
    },
    {
      "cell_type": "code",
      "metadata": {
        "id": "1aFKrJIM2ky8",
        "colab_type": "code",
        "colab": {}
      },
      "source": [
        "import re                                  # library for regular expression operations\n",
        "import string                              # for string operations\n",
        "\n",
        "from nltk.corpus import stopwords          # module for stop words that come with NLTK\n",
        "from nltk.stem import PorterStemmer        # module for stemming\n",
        "from nltk.tokenize import TweetTokenizer   # module for tokenizing strings"
      ],
      "execution_count": 6,
      "outputs": []
    },
    {
      "cell_type": "code",
      "metadata": {
        "id": "H9PQIB0r2nET",
        "colab_type": "code",
        "colab": {}
      },
      "source": [
        "def RemoveLinksHash(t):\n",
        "  t_cleaned = re.sub(r'^RT[\\s]+', '', t)\n",
        "  t_cleaned = re.sub(r'https?:\\/\\/.*[\\r\\n]*', '', t_cleaned)\n",
        "  t_cleaned = re.sub(r'#', '', t_cleaned)\n",
        "  return(t_cleaned)"
      ],
      "execution_count": 7,
      "outputs": []
    },
    {
      "cell_type": "code",
      "metadata": {
        "id": "8RKR2aR42odu",
        "colab_type": "code",
        "colab": {}
      },
      "source": [
        "def TokenizeTweet(t):\n",
        "  tokenizer = TweetTokenizer(preserve_case=False,strip_handles=True,reduce_len=True)\n",
        "  t_tokens=tokenizer.tokenize(t)\n",
        "  return t_tokens"
      ],
      "execution_count": 8,
      "outputs": []
    },
    {
      "cell_type": "code",
      "metadata": {
        "id": "OGggTJXu2qpn",
        "colab_type": "code",
        "colab": {
          "base_uri": "https://localhost:8080/",
          "height": 70
        },
        "outputId": "2b3d2224-0fc9-43c4-a342-213cf0f0b70c"
      },
      "source": [
        "stopwords_english=stopwords.words('english')\n",
        "print(stopwords_english)\n",
        "print(string.punctuation)"
      ],
      "execution_count": 9,
      "outputs": [
        {
          "output_type": "stream",
          "text": [
            "['i', 'me', 'my', 'myself', 'we', 'our', 'ours', 'ourselves', 'you', \"you're\", \"you've\", \"you'll\", \"you'd\", 'your', 'yours', 'yourself', 'yourselves', 'he', 'him', 'his', 'himself', 'she', \"she's\", 'her', 'hers', 'herself', 'it', \"it's\", 'its', 'itself', 'they', 'them', 'their', 'theirs', 'themselves', 'what', 'which', 'who', 'whom', 'this', 'that', \"that'll\", 'these', 'those', 'am', 'is', 'are', 'was', 'were', 'be', 'been', 'being', 'have', 'has', 'had', 'having', 'do', 'does', 'did', 'doing', 'a', 'an', 'the', 'and', 'but', 'if', 'or', 'because', 'as', 'until', 'while', 'of', 'at', 'by', 'for', 'with', 'about', 'against', 'between', 'into', 'through', 'during', 'before', 'after', 'above', 'below', 'to', 'from', 'up', 'down', 'in', 'out', 'on', 'off', 'over', 'under', 'again', 'further', 'then', 'once', 'here', 'there', 'when', 'where', 'why', 'how', 'all', 'any', 'both', 'each', 'few', 'more', 'most', 'other', 'some', 'such', 'no', 'nor', 'not', 'only', 'own', 'same', 'so', 'than', 'too', 'very', 's', 't', 'can', 'will', 'just', 'don', \"don't\", 'should', \"should've\", 'now', 'd', 'll', 'm', 'o', 're', 've', 'y', 'ain', 'aren', \"aren't\", 'couldn', \"couldn't\", 'didn', \"didn't\", 'doesn', \"doesn't\", 'hadn', \"hadn't\", 'hasn', \"hasn't\", 'haven', \"haven't\", 'isn', \"isn't\", 'ma', 'mightn', \"mightn't\", 'mustn', \"mustn't\", 'needn', \"needn't\", 'shan', \"shan't\", 'shouldn', \"shouldn't\", 'wasn', \"wasn't\", 'weren', \"weren't\", 'won', \"won't\", 'wouldn', \"wouldn't\"]\n",
            "!\"#$%&'()*+,-./:;<=>?@[\\]^_`{|}~\n"
          ],
          "name": "stdout"
        }
      ]
    },
    {
      "cell_type": "code",
      "metadata": {
        "id": "gylSWiFw2shz",
        "colab_type": "code",
        "colab": {}
      },
      "source": [
        "def RemoveStopWordsPunctuations(t):\n",
        "  t_updated=[]\n",
        "  for word in t:\n",
        "    if(word not in stopwords_english and word not in string.punctuation):\n",
        "      t_updated.append(word)\n",
        "  return t_updated  "
      ],
      "execution_count": 10,
      "outputs": []
    },
    {
      "cell_type": "code",
      "metadata": {
        "id": "0oUMzboY2uB9",
        "colab_type": "code",
        "colab": {}
      },
      "source": [
        "def StemTweet(t):\n",
        "  stemmer = PorterStemmer()\n",
        "  tweet_stem=[]\n",
        "\n",
        "  for word in t:\n",
        "    stem_word=stemmer.stem(word)\n",
        "    tweet_stem.append(stem_word)\n",
        "  return tweet_stem"
      ],
      "execution_count": 11,
      "outputs": []
    },
    {
      "cell_type": "code",
      "metadata": {
        "id": "EjpRVJA82vsZ",
        "colab_type": "code",
        "colab": {}
      },
      "source": [
        "def processTweet(t):\n",
        "  processedTweets=[]\n",
        "\n",
        "  t2=RemoveLinksHash(t)\n",
        "  t2=TokenizeTweet(t2)\n",
        "  t2=RemoveStopWordsPunctuations(t2)\n",
        "  t2=StemTweet(t2)\n",
        "    \n",
        "    #print(processedTweets)\n",
        "\n",
        "  return t2"
      ],
      "execution_count": 12,
      "outputs": []
    },
    {
      "cell_type": "code",
      "metadata": {
        "id": "_WLXeWoi3j12",
        "colab_type": "code",
        "colab": {}
      },
      "source": [
        ""
      ],
      "execution_count": 12,
      "outputs": []
    },
    {
      "cell_type": "code",
      "metadata": {
        "id": "v_uVf7cV2xt3",
        "colab_type": "code",
        "colab": {}
      },
      "source": [
        "def count_tweets(result, tweets, ys):\n",
        "\n",
        "    '''\n",
        "    Input:\n",
        "        result: a dictionary that will be used to map each pair to its frequency\n",
        "        tweets: a list of tweets\n",
        "        ys: a list corresponding to the sentiment of each tweet (either 0 or 1)\n",
        "    Output:\n",
        "        result: a dictionary mapping each pair to its frequency\n",
        "    '''\n",
        "    yslist = np.squeeze(ys).tolist()\n",
        "    \n",
        "    for y, tweet in zip(yslist, tweets):\n",
        "      for word in processTweet(tweet):\n",
        "          pair = (word,y)\n",
        "          if pair in result:\n",
        "              result[pair] += 1\n",
        "          else:\n",
        "              result[pair] = 1\n",
        "    return result"
      ],
      "execution_count": 31,
      "outputs": []
    },
    {
      "cell_type": "code",
      "metadata": {
        "id": "5Xl7Wa5N3lLL",
        "colab_type": "code",
        "colab": {
          "base_uri": "https://localhost:8080/",
          "height": 50
        },
        "outputId": "66b2abb2-9772-4fb9-fc54-9f8e84cfae58"
      },
      "source": [
        "test_pos = all_positive_tweets[4000:]\n",
        "train_pos = all_positive_tweets[:4000]\n",
        "test_neg = all_negative_tweets[4000:]\n",
        "train_neg = all_negative_tweets[:4000]\n",
        "\n",
        "train_x = train_pos + train_neg \n",
        "test_x = test_pos + test_neg\n",
        "\n",
        "train_y = np.append(np.ones((len(train_pos), 1)), np.zeros((len(train_neg), 1)), axis=0)\n",
        "test_y = np.append(np.ones((len(test_pos), 1)), np.zeros((len(test_neg), 1)), axis=0)\n",
        "\n",
        "print(\"train_y.shape = \" + str(train_y.shape))\n",
        "print(\"test_y.shape = \" + str(test_y.shape))"
      ],
      "execution_count": 22,
      "outputs": [
        {
          "output_type": "stream",
          "text": [
            "train_y.shape = (8000, 1)\n",
            "test_y.shape = (2000, 1)\n"
          ],
          "name": "stdout"
        }
      ]
    },
    {
      "cell_type": "code",
      "metadata": {
        "id": "N8gmkLEo5qtP",
        "colab_type": "code",
        "colab": {
          "base_uri": "https://localhost:8080/",
          "height": 50
        },
        "outputId": "4be095b4-1f67-464b-c36c-02783083bad7"
      },
      "source": [
        "freqs = count_tweets({}, train_x, train_y)\n",
        "\n",
        "print(\"type(freqs) = \" + str(type(freqs)))\n",
        "print(\"len(freqs) = \" + str(len(freqs.keys())))"
      ],
      "execution_count": 32,
      "outputs": [
        {
          "output_type": "stream",
          "text": [
            "type(freqs) = <class 'dict'>\n",
            "len(freqs) = 11345\n"
          ],
          "name": "stdout"
        }
      ]
    },
    {
      "cell_type": "code",
      "metadata": {
        "id": "BC87eL9p7aAG",
        "colab_type": "code",
        "colab": {
          "base_uri": "https://localhost:8080/",
          "height": 34
        },
        "outputId": "82ba760c-2419-4a17-c7c8-b9f2a9a84e80"
      },
      "source": [
        "vocab = set(key[0] for key in freqs.keys())\n",
        "print(len(vocab))\n"
      ],
      "execution_count": 16,
      "outputs": [
        {
          "output_type": "stream",
          "text": [
            "9088\n"
          ],
          "name": "stdout"
        }
      ]
    },
    {
      "cell_type": "code",
      "metadata": {
        "id": "giTd1lup6Phu",
        "colab_type": "code",
        "colab": {
          "base_uri": "https://localhost:8080/",
          "height": 34
        },
        "outputId": "5b5c7fa5-1675-46aa-aa36-fc233527aa2b"
      },
      "source": [
        "\n",
        "result = {}\n",
        "tweets = ['i am happy', 'i am tricked', 'i am sad', 'i am tired', 'i am tired']\n",
        "ys = [1, 0, 0, 0, 0]\n",
        "count_tweets(result, tweets, ys)"
      ],
      "execution_count": 25,
      "outputs": [
        {
          "output_type": "execute_result",
          "data": {
            "text/plain": [
              "{('happi', 1): 1, ('sad', 0): 1, ('tire', 0): 2, ('trick', 0): 1}"
            ]
          },
          "metadata": {
            "tags": []
          },
          "execution_count": 25
        }
      ]
    },
    {
      "cell_type": "code",
      "metadata": {
        "id": "ZTyQS40BWDdY",
        "colab_type": "code",
        "colab": {}
      },
      "source": [
        "def lookup(freqs,word,y):\n",
        "  return freqs.get((word,y),1)\n",
        "  "
      ],
      "execution_count": 37,
      "outputs": []
    },
    {
      "cell_type": "code",
      "metadata": {
        "id": "0WELbGB0U4Mc",
        "colab_type": "code",
        "colab": {}
      },
      "source": [
        "def train_naive_bayes(freqs, train_x, train_y):\n",
        "    \n",
        "    loglikelihood = {}\n",
        "    logprior = 0\n",
        "    # calculate V, the number of unique words in the vocabulary\n",
        "    vocab = set([pair[0] for pair in freqs.keys()])\n",
        "    V = len(vocab)\n",
        "\n",
        "    N_pos = N_neg = 0\n",
        "    for pair in freqs.keys():\n",
        "       \n",
        "        if pair[1] > 0:\n",
        "            N_pos += freqs[pair]\n",
        "        else:\n",
        "            N_neg += freqs[pair]\n",
        "\n",
        "    D = len(train_y)\n",
        "    D_pos = sum(train_y)\n",
        "    D_neg = float(D) - D_pos\n",
        "    logprior = np.log(D_pos) - np.log(D_neg)\n",
        "\n",
        "    # For each word in the vocabulary\n",
        "    for word in vocab:\n",
        "        freq_pos = lookup(freqs,word,1)\n",
        "        freq_neg = lookup(freqs,word,0)\n",
        "        p_w_pos = ( freq_pos + 1.0 )/(N_pos + V)\n",
        "        p_w_neg = ( freq_neg + 1.0 )/(N_neg + V)\n",
        "        loglikelihood[word] = float(logprior + np.log((p_w_pos)/(p_w_neg)))\n",
        "\n",
        "    return float(logprior), loglikelihood"
      ],
      "execution_count": 43,
      "outputs": []
    },
    {
      "cell_type": "code",
      "metadata": {
        "id": "ziwafiBsVYt2",
        "colab_type": "code",
        "colab": {
          "base_uri": "https://localhost:8080/",
          "height": 50
        },
        "outputId": "38ce51f4-d912-4735-8c8a-6e632aa854f8"
      },
      "source": [
        "logprior, loglikelihood = train_naive_bayes(freqs, train_x, train_y)\n",
        "print(logprior)\n",
        "print(len(loglikelihood))"
      ],
      "execution_count": 44,
      "outputs": [
        {
          "output_type": "stream",
          "text": [
            "0.0\n",
            "9088\n"
          ],
          "name": "stdout"
        }
      ]
    },
    {
      "cell_type": "code",
      "metadata": {
        "id": "P8dfaEFaWcgg",
        "colab_type": "code",
        "colab": {
          "base_uri": "https://localhost:8080/",
          "height": 34
        },
        "outputId": "ad001ce8-d109-48ec-d7d4-b3443d2635e0"
      },
      "source": [
        "print(loglikelihood['printer'])"
      ],
      "execution_count": 55,
      "outputs": [
        {
          "output_type": "stream",
          "text": [
            "0.41104311033272856\n"
          ],
          "name": "stdout"
        }
      ]
    },
    {
      "cell_type": "code",
      "metadata": {
        "id": "a8cK0efQgfcp",
        "colab_type": "code",
        "colab": {}
      },
      "source": [
        "def naive_bayes_predict(tweet, logprior, loglikelihood):\n",
        " \n",
        "    word_l = processTweet(tweet)\n",
        "    p = 0\n",
        "    p += logprior\n",
        "\n",
        "    for word in word_l:\n",
        "        if word in loglikelihood:\n",
        "            p += loglikelihood[word]\n",
        "    return p\n"
      ],
      "execution_count": 49,
      "outputs": []
    },
    {
      "cell_type": "code",
      "metadata": {
        "id": "Aiz9VMxhg-JF",
        "colab_type": "code",
        "colab": {
          "base_uri": "https://localhost:8080/",
          "height": 34
        },
        "outputId": "d6c72fa5-1129-4171-8048-80449719c827"
      },
      "source": [
        "my_tweet = 'She smiled.'\n",
        "p = naive_bayes_predict(my_tweet, logprior, loglikelihood)\n",
        "print( p)"
      ],
      "execution_count": 51,
      "outputs": [
        {
          "output_type": "stream",
          "text": [
            "1.5741939201384094\n"
          ],
          "name": "stdout"
        }
      ]
    },
    {
      "cell_type": "code",
      "metadata": {
        "id": "6kNlDg9dhBA2",
        "colab_type": "code",
        "colab": {}
      },
      "source": [
        "def test_naive_bayes(test_x, test_y, logprior, loglikelihood):\n",
        "\n",
        "    accuracy = 0  \n",
        "    y_hats = []\n",
        "    for tweet in test_x:\n",
        "      \n",
        "      if naive_bayes_predict(tweet, logprior, loglikelihood) > 0:\n",
        "          y_hat_i = 1\n",
        "      else:\n",
        "          y_hat_i = 0\n",
        "\n",
        "      y_hats.append(y_hat_i)\n",
        "    #print(np.squeeze(test_y))\n",
        "    error = (np.sum(np.absolute(np.subtract(np.asarray(y_hats),np.squeeze(test_y)))))/len(test_y)\n",
        "    \n",
        "    accuracy = 1 - error\n",
        "    return accuracy"
      ],
      "execution_count": 82,
      "outputs": []
    },
    {
      "cell_type": "code",
      "metadata": {
        "id": "f8kBjX7RhaUs",
        "colab_type": "code",
        "colab": {
          "base_uri": "https://localhost:8080/",
          "height": 50
        },
        "outputId": "54b6da56-08bf-4239-f42c-751e16067278"
      },
      "source": [
        "print(\"Naive Bayes accuracy = %0.4f\" %\n",
        "      (test_naive_bayes(test_x, test_y, logprior, loglikelihood)))"
      ],
      "execution_count": 83,
      "outputs": [
        {
          "output_type": "stream",
          "text": [
            "[1. 1. 1. ... 0. 0. 0.]\n",
            "Naive Bayes accuracy = 0.9945\n"
          ],
          "name": "stdout"
        }
      ]
    },
    {
      "cell_type": "code",
      "metadata": {
        "id": "BFUwsnGVhdMS",
        "colab_type": "code",
        "colab": {
          "base_uri": "https://localhost:8080/",
          "height": 218
        },
        "outputId": "33b39c3d-6f23-40ed-844b-f22e32c1370f"
      },
      "source": [
        "# Some error analysis\n",
        "print('Truth Predicted Tweet')\n",
        "for x, y in zip(test_x, test_y):\n",
        "    y_hat = naive_bayes_predict(x, logprior, loglikelihood)\n",
        "    if y != (np.sign(y_hat) > 0):\n",
        "        print('%d\\t%0.2f\\t%s' % (y, np.sign(y_hat) > 0, ' '.join(\n",
        "            processTweet(x)).encode('ascii', 'ignore')))"
      ],
      "execution_count": 85,
      "outputs": [
        {
          "output_type": "stream",
          "text": [
            "Truth Predicted Tweet\n",
            "1\t0.00\tb''\n",
            "1\t0.00\tb'truli later move know queen bee upward bound movingonup'\n",
            "1\t0.00\tb\"woke feel incred sick idk caus drank starbuck 11 o'clock last night reaction med :)\"\n",
            "1\t0.00\tb'new report talk burn calori cold work harder warm feel better weather :p'\n",
            "1\t0.00\tb''\n",
            "1\t0.00\tb''\n",
            "1\t0.00\tb'park get sunlight'\n",
            "0\t1.00\tb'hello info possibl interest jonatha close join beti :( great'\n",
            "0\t1.00\tb'u prob fun david'\n",
            "0\t1.00\tb'pat jay'\n",
            "0\t1.00\tb'whatev stil l young >:-('\n"
          ],
          "name": "stdout"
        }
      ]
    },
    {
      "cell_type": "code",
      "metadata": {
        "id": "r4efHhUol1Xq",
        "colab_type": "code",
        "colab": {
          "base_uri": "https://localhost:8080/",
          "height": 34
        },
        "outputId": "98abbec3-49ea-4426-ccbc-8bd79e2925bf"
      },
      "source": [
        "my_tweet = 'I am happy because'\n",
        "\n",
        "p = naive_bayes_predict(my_tweet, logprior, loglikelihood)\n",
        "print(p)"
      ],
      "execution_count": 88,
      "outputs": [
        {
          "output_type": "stream",
          "text": [
            "2.1487353582905078\n"
          ],
          "name": "stdout"
        }
      ]
    },
    {
      "cell_type": "code",
      "metadata": {
        "id": "gR5ncw8fl8f5",
        "colab_type": "code",
        "colab": {}
      },
      "source": [
        ""
      ],
      "execution_count": null,
      "outputs": []
    }
  ]
}