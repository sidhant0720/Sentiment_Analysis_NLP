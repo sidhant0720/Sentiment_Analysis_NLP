{
  "nbformat": 4,
  "nbformat_minor": 0,
  "metadata": {
    "colab": {
      "name": "NLP_Preprocessing.ipynb",
      "provenance": [],
      "collapsed_sections": [],
      "toc_visible": true,
      "authorship_tag": "ABX9TyPtcgoueArA0rk0P8ogmYld",
      "include_colab_link": true
    },
    "kernelspec": {
      "name": "python3",
      "display_name": "Python 3"
    }
  },
  "cells": [
    {
      "cell_type": "markdown",
      "metadata": {
        "id": "view-in-github",
        "colab_type": "text"
      },
      "source": [
        "<a href=\"https://colab.research.google.com/github/sidhant0720/Sentiment_Analysis_NLP/blob/master/sentiment_analysis_logistic-regression.ipynb\" target=\"_parent\"><img src=\"https://colab.research.google.com/assets/colab-badge.svg\" alt=\"Open In Colab\"/></a>"
      ]
    },
    {
      "cell_type": "markdown",
      "metadata": {
        "id": "g2FoBK7lAW7D",
        "colab_type": "text"
      },
      "source": [
        "\n",
        "\n",
        "```\n",
        "# This is formatted as code\n",
        "```\n",
        "\n",
        "# Text Pre Processing "
      ]
    },
    {
      "cell_type": "code",
      "metadata": {
        "id": "O_l-itf6byN_",
        "colab_type": "code",
        "colab": {}
      },
      "source": [
        "import nltk                                # Python library for NLP\n",
        "from nltk.corpus import twitter_samples    # sample Twitter dataset from NLTK\n",
        "import matplotlib.pyplot as plt            # library for visualization\n",
        "import random                              # pseudo-random number generator"
      ],
      "execution_count": 2,
      "outputs": []
    },
    {
      "cell_type": "code",
      "metadata": {
        "id": "UTMCGzUTePOn",
        "colab_type": "code",
        "colab": {
          "base_uri": "https://localhost:8080/",
          "height": 67
        },
        "outputId": "2ad959a3-d11b-4660-83d5-79cf8683ad74"
      },
      "source": [
        "# downloads sample twitter dataset.\n",
        "nltk.download('twitter_samples')"
      ],
      "execution_count": 3,
      "outputs": [
        {
          "output_type": "stream",
          "text": [
            "[nltk_data] Downloading package twitter_samples to /root/nltk_data...\n",
            "[nltk_data]   Unzipping corpora/twitter_samples.zip.\n"
          ],
          "name": "stdout"
        },
        {
          "output_type": "execute_result",
          "data": {
            "text/plain": [
              "True"
            ]
          },
          "metadata": {
            "tags": []
          },
          "execution_count": 3
        }
      ]
    },
    {
      "cell_type": "code",
      "metadata": {
        "id": "TB1hUlNmd4kw",
        "colab_type": "code",
        "colab": {}
      },
      "source": [
        "all_positive_tweets = twitter_samples.strings('positive_tweets.json')\n",
        "all_negative_tweets = twitter_samples.strings('negative_tweets.json')"
      ],
      "execution_count": 4,
      "outputs": []
    },
    {
      "cell_type": "code",
      "metadata": {
        "id": "ZEs7BOUceFLr",
        "colab_type": "code",
        "colab": {
          "base_uri": "https://localhost:8080/",
          "height": 101
        },
        "outputId": "ca85276e-7ecc-4d16-81e4-a577507b74ce"
      },
      "source": [
        "print('Number of positive tweets: ', len(all_positive_tweets))\n",
        "print('Number of negative tweets: ', len(all_negative_tweets))\n",
        "\n",
        "print('\\nThe type of all_positive_tweets is: ', type(all_positive_tweets))\n",
        "print('The type of a tweet entry is: ', type(all_negative_tweets[0]))\n"
      ],
      "execution_count": 5,
      "outputs": [
        {
          "output_type": "stream",
          "text": [
            "Number of positive tweets:  5000\n",
            "Number of negative tweets:  5000\n",
            "\n",
            "The type of all_positive_tweets is:  <class 'list'>\n",
            "The type of a tweet entry is:  <class 'str'>\n"
          ],
          "name": "stdout"
        }
      ]
    },
    {
      "cell_type": "code",
      "metadata": {
        "id": "NlCflKCYfRVW",
        "colab_type": "code",
        "colab": {
          "base_uri": "https://localhost:8080/",
          "height": 50
        },
        "outputId": "369bc010-fc21-4770-cc1a-78abd751cbbb"
      },
      "source": [
        "# print positive in greeen\n",
        "print('\\033[92m' + all_positive_tweets[random.randint(0,5000)])\n",
        "\n",
        "# print negative in red\n",
        "print('\\033[91m' + all_negative_tweets[random.randint(0,5000)])"
      ],
      "execution_count": 6,
      "outputs": [
        {
          "output_type": "stream",
          "text": [
            "\u001b[92m@KhushbooZG I heard lot of good things about this movie..will definitely watch it :)\n",
            "\u001b[91m@blockedmefat dont unstan tay :( never please\n"
          ],
          "name": "stdout"
        }
      ]
    },
    {
      "cell_type": "code",
      "metadata": {
        "id": "TXnlDxeCfa1g",
        "colab_type": "code",
        "colab": {
          "base_uri": "https://localhost:8080/",
          "height": 67
        },
        "outputId": "5bfcbc07-b1b0-4d8a-bf8a-2bc8450fdb68"
      },
      "source": [
        "nltk.download('stopwords')"
      ],
      "execution_count": 7,
      "outputs": [
        {
          "output_type": "stream",
          "text": [
            "[nltk_data] Downloading package stopwords to /root/nltk_data...\n",
            "[nltk_data]   Unzipping corpora/stopwords.zip.\n"
          ],
          "name": "stdout"
        },
        {
          "output_type": "execute_result",
          "data": {
            "text/plain": [
              "True"
            ]
          },
          "metadata": {
            "tags": []
          },
          "execution_count": 7
        }
      ]
    },
    {
      "cell_type": "code",
      "metadata": {
        "id": "hvivs1bNfnka",
        "colab_type": "code",
        "colab": {}
      },
      "source": [
        "import re                                  # library for regular expression operations\n",
        "import string                              # for string operations\n",
        "\n",
        "from nltk.corpus import stopwords          # module for stop words that come with NLTK\n",
        "from nltk.stem import PorterStemmer        # module for stemming\n",
        "from nltk.tokenize import TweetTokenizer   # module for tokenizing strings"
      ],
      "execution_count": 8,
      "outputs": []
    },
    {
      "cell_type": "markdown",
      "metadata": {
        "id": "3f5Wr_Ni4d9_",
        "colab_type": "text"
      },
      "source": [
        "Noise Removal - removing 'RT' , links , # "
      ]
    },
    {
      "cell_type": "code",
      "metadata": {
        "id": "wjEQDFtffryG",
        "colab_type": "code",
        "colab": {}
      },
      "source": [
        "def RemoveLinksHash(t):\n",
        "  t_cleaned = re.sub(r'^RT[\\s]+', '', t)\n",
        "  t_cleaned = re.sub(r'https?:\\/\\/.*[\\r\\n]*', '', t_cleaned)\n",
        "  t_cleaned = re.sub(r'#', '', t_cleaned)\n",
        "  return(t_cleaned)\n",
        "\n"
      ],
      "execution_count": 9,
      "outputs": []
    },
    {
      "cell_type": "code",
      "metadata": {
        "id": "F9Fpq2pAg6jA",
        "colab_type": "code",
        "colab": {
          "base_uri": "https://localhost:8080/",
          "height": 50
        },
        "outputId": "6310f8b3-faf5-432f-d514-fbdc4e5b11af"
      },
      "source": [
        "test_tweet = all_positive_tweets[2277]\n",
        "print(all_positive_tweets[2277])\n",
        "print(RemoveLinksHash(all_positive_tweets[2277]))\n",
        "test_tweet=RemoveLinksHash(all_positive_tweets[2277])"
      ],
      "execution_count": 10,
      "outputs": [
        {
          "output_type": "stream",
          "text": [
            "My beautiful sunflowers on a sunny Friday morning off :) #sunflowers #favourites #happy #Friday off… https://t.co/3tfYom0N1i\n",
            "My beautiful sunflowers on a sunny Friday morning off :) sunflowers favourites happy Friday off… \n"
          ],
          "name": "stdout"
        }
      ]
    },
    {
      "cell_type": "markdown",
      "metadata": {
        "id": "pTu3iePU6LFv",
        "colab_type": "text"
      },
      "source": [
        "Tokenize the String"
      ]
    },
    {
      "cell_type": "code",
      "metadata": {
        "id": "Xtv-_Z4rhBqi",
        "colab_type": "code",
        "colab": {}
      },
      "source": [
        "def TokenizeTweet(t):\n",
        "  tokenizer = TweetTokenizer(preserve_case=False,strip_handles=True,reduce_len=True)\n",
        "  t_tokens=tokenizer.tokenize(t)\n",
        "  return t_tokens"
      ],
      "execution_count": 11,
      "outputs": []
    },
    {
      "cell_type": "code",
      "metadata": {
        "id": "kdj1ffnM5o9D",
        "colab_type": "code",
        "colab": {
          "base_uri": "https://localhost:8080/",
          "height": 54
        },
        "outputId": "68bd7437-6cef-4afe-ca52-99bc50d2af61"
      },
      "source": [
        "test_tweet=TokenizeTweet(test_tweet)\n",
        "print(test_tweet)"
      ],
      "execution_count": 12,
      "outputs": [
        {
          "output_type": "stream",
          "text": [
            "['my', 'beautiful', 'sunflowers', 'on', 'a', 'sunny', 'friday', 'morning', 'off', ':)', 'sunflowers', 'favourites', 'happy', 'friday', 'off', '…']\n"
          ],
          "name": "stdout"
        }
      ]
    },
    {
      "cell_type": "markdown",
      "metadata": {
        "id": "eKrGraYw6WtK",
        "colab_type": "text"
      },
      "source": [
        "Remove Stop words and Punctuations"
      ]
    },
    {
      "cell_type": "code",
      "metadata": {
        "id": "WiMBqy2m5_mL",
        "colab_type": "code",
        "colab": {
          "base_uri": "https://localhost:8080/",
          "height": 70
        },
        "outputId": "f7103518-3b42-4704-ce23-2032b2d23a8b"
      },
      "source": [
        "stopwords_english=stopwords.words('english')\n",
        "print(stopwords_english)\n",
        "print(string.punctuation)"
      ],
      "execution_count": 13,
      "outputs": [
        {
          "output_type": "stream",
          "text": [
            "['i', 'me', 'my', 'myself', 'we', 'our', 'ours', 'ourselves', 'you', \"you're\", \"you've\", \"you'll\", \"you'd\", 'your', 'yours', 'yourself', 'yourselves', 'he', 'him', 'his', 'himself', 'she', \"she's\", 'her', 'hers', 'herself', 'it', \"it's\", 'its', 'itself', 'they', 'them', 'their', 'theirs', 'themselves', 'what', 'which', 'who', 'whom', 'this', 'that', \"that'll\", 'these', 'those', 'am', 'is', 'are', 'was', 'were', 'be', 'been', 'being', 'have', 'has', 'had', 'having', 'do', 'does', 'did', 'doing', 'a', 'an', 'the', 'and', 'but', 'if', 'or', 'because', 'as', 'until', 'while', 'of', 'at', 'by', 'for', 'with', 'about', 'against', 'between', 'into', 'through', 'during', 'before', 'after', 'above', 'below', 'to', 'from', 'up', 'down', 'in', 'out', 'on', 'off', 'over', 'under', 'again', 'further', 'then', 'once', 'here', 'there', 'when', 'where', 'why', 'how', 'all', 'any', 'both', 'each', 'few', 'more', 'most', 'other', 'some', 'such', 'no', 'nor', 'not', 'only', 'own', 'same', 'so', 'than', 'too', 'very', 's', 't', 'can', 'will', 'just', 'don', \"don't\", 'should', \"should've\", 'now', 'd', 'll', 'm', 'o', 're', 've', 'y', 'ain', 'aren', \"aren't\", 'couldn', \"couldn't\", 'didn', \"didn't\", 'doesn', \"doesn't\", 'hadn', \"hadn't\", 'hasn', \"hasn't\", 'haven', \"haven't\", 'isn', \"isn't\", 'ma', 'mightn', \"mightn't\", 'mustn', \"mustn't\", 'needn', \"needn't\", 'shan', \"shan't\", 'shouldn', \"shouldn't\", 'wasn', \"wasn't\", 'weren', \"weren't\", 'won', \"won't\", 'wouldn', \"wouldn't\"]\n",
            "!\"#$%&'()*+,-./:;<=>?@[\\]^_`{|}~\n"
          ],
          "name": "stdout"
        }
      ]
    },
    {
      "cell_type": "code",
      "metadata": {
        "id": "pxNck-nJ6s_v",
        "colab_type": "code",
        "colab": {}
      },
      "source": [
        "def RemoveStopWordsPunctuations(t):\n",
        "  t_updated=[]\n",
        "  for word in t:\n",
        "    if(word not in stopwords_english and word not in string.punctuation):\n",
        "      t_updated.append(word)\n",
        "  return t_updated  "
      ],
      "execution_count": 14,
      "outputs": []
    },
    {
      "cell_type": "code",
      "metadata": {
        "id": "i7JdCGWX7ZVu",
        "colab_type": "code",
        "colab": {
          "base_uri": "https://localhost:8080/",
          "height": 34
        },
        "outputId": "0750e11b-b889-4bfa-eea3-d5d599e311cd"
      },
      "source": [
        "test_tweet=RemoveStopWordsPunctuations(test_tweet)\n",
        "print(test_tweet)"
      ],
      "execution_count": 15,
      "outputs": [
        {
          "output_type": "stream",
          "text": [
            "['beautiful', 'sunflowers', 'sunny', 'friday', 'morning', ':)', 'sunflowers', 'favourites', 'happy', 'friday', '…']\n"
          ],
          "name": "stdout"
        }
      ]
    },
    {
      "cell_type": "markdown",
      "metadata": {
        "id": "IOjRFrWd8BYD",
        "colab_type": "text"
      },
      "source": [
        "Stemming"
      ]
    },
    {
      "cell_type": "code",
      "metadata": {
        "id": "CsMdyYVr7fTc",
        "colab_type": "code",
        "colab": {}
      },
      "source": [
        "def StemTweet(t):\n",
        "  stemmer = PorterStemmer()\n",
        "  tweet_stem=[]\n",
        "\n",
        "  for word in t:\n",
        "    stem_word=stemmer.stem(word)\n",
        "    tweet_stem.append(stem_word)\n",
        "  return tweet_stem"
      ],
      "execution_count": 16,
      "outputs": []
    },
    {
      "cell_type": "code",
      "metadata": {
        "id": "ejD20Ld181bf",
        "colab_type": "code",
        "colab": {
          "base_uri": "https://localhost:8080/",
          "height": 34
        },
        "outputId": "238959ec-606a-41fb-c287-56cac93cc770"
      },
      "source": [
        "test_tweet=StemTweet(test_tweet)\n",
        "print(test_tweet)"
      ],
      "execution_count": 17,
      "outputs": [
        {
          "output_type": "stream",
          "text": [
            "['beauti', 'sunflow', 'sunni', 'friday', 'morn', ':)', 'sunflow', 'favourit', 'happi', 'friday', '…']\n"
          ],
          "name": "stdout"
        }
      ]
    },
    {
      "cell_type": "code",
      "metadata": {
        "id": "IfBjeMNVG9mU",
        "colab_type": "code",
        "colab": {}
      },
      "source": [
        "def processTweets(t):\n",
        "  processedTweets=[]\n",
        "  count=0;\n",
        "  for tweet in t:\n",
        "    #count+=1\n",
        "    #print(\"count = \",count)\n",
        "    t2=RemoveLinksHash(tweet)\n",
        "    t2=TokenizeTweet(t2)\n",
        "    t2=RemoveStopWordsPunctuations(t2)\n",
        "    t2=StemTweet(t2)\n",
        "    processedTweets.append(t2)\n",
        "    #print(processedTweets)\n",
        "\n",
        "  return processedTweets\n",
        "\n",
        "\n",
        "\n",
        "\n"
      ],
      "execution_count": 18,
      "outputs": []
    },
    {
      "cell_type": "code",
      "metadata": {
        "id": "IN6n0Y_NIF4j",
        "colab_type": "code",
        "colab": {
          "base_uri": "https://localhost:8080/",
          "height": 470
        },
        "outputId": "20a974d1-21de-42a7-df76-0ef421a99244"
      },
      "source": [
        "processTweets(all_positive_tweets[200:205])"
      ],
      "execution_count": 19,
      "outputs": [
        {
          "output_type": "execute_result",
          "data": {
            "text/plain": [
              "[['anyway', ':-)'],\n",
              " ['itti', 'bitti', 'teeni', 'bikini', ':)'],\n",
              " ['join',\n",
              "  'hushedpinwithsammi',\n",
              "  'event',\n",
              "  ':D',\n",
              "  'might',\n",
              "  'get',\n",
              "  'text',\n",
              "  'day',\n",
              "  'luv',\n",
              "  'u'],\n",
              " ['alway',\n",
              "  'much',\n",
              "  'fun',\n",
              "  '4th',\n",
              "  'hour',\n",
              "  'get',\n",
              "  'togeth',\n",
              "  ':)',\n",
              "  'end',\n",
              "  'night',\n",
              "  'ice',\n",
              "  'cream',\n",
              "  'xfile',\n",
              "  'content'],\n",
              " ['easi', ':D']]"
            ]
          },
          "metadata": {
            "tags": []
          },
          "execution_count": 19
        }
      ]
    },
    {
      "cell_type": "code",
      "metadata": {
        "id": "RnZBbgEhdsrD",
        "colab_type": "code",
        "colab": {}
      },
      "source": [
        "def processTweet(t):\n",
        "  processedTweets=[]\n",
        "\n",
        "  t2=RemoveLinksHash(t)\n",
        "  t2=TokenizeTweet(t2)\n",
        "  t2=RemoveStopWordsPunctuations(t2)\n",
        "  t2=StemTweet(t2)\n",
        "    \n",
        "    #print(processedTweets)\n",
        "\n",
        "  return t2"
      ],
      "execution_count": 20,
      "outputs": []
    },
    {
      "cell_type": "markdown",
      "metadata": {
        "id": "-zyCJJx2AjCO",
        "colab_type": "text"
      },
      "source": [
        "# Building and Visualizing word frequencies"
      ]
    },
    {
      "cell_type": "code",
      "metadata": {
        "id": "E9xiUwtuDRIv",
        "colab_type": "code",
        "colab": {}
      },
      "source": [
        "import numpy as np"
      ],
      "execution_count": 21,
      "outputs": []
    },
    {
      "cell_type": "code",
      "metadata": {
        "id": "7gK8RO9ACtZT",
        "colab_type": "code",
        "colab": {
          "base_uri": "https://localhost:8080/",
          "height": 34
        },
        "outputId": "80f1fe73-3cc3-460d-de1f-e25a81711161"
      },
      "source": [
        "tweets=all_positive_tweets+all_negative_tweets\n",
        "print(\"Number of total tweets = \",len(tweets))"
      ],
      "execution_count": 22,
      "outputs": [
        {
          "output_type": "stream",
          "text": [
            "Number of total tweets =  10000\n"
          ],
          "name": "stdout"
        }
      ]
    },
    {
      "cell_type": "code",
      "metadata": {
        "id": "msKK1pYuDJ2k",
        "colab_type": "code",
        "colab": {}
      },
      "source": [
        "labels = np.append(np.ones((len(all_positive_tweets))),np.zeros(len(all_negative_tweets)))"
      ],
      "execution_count": 23,
      "outputs": []
    },
    {
      "cell_type": "code",
      "metadata": {
        "id": "tDfl_6TDDju0",
        "colab_type": "code",
        "colab": {}
      },
      "source": [
        "def build_freqs(tweets,ys):\n",
        "  \"\"\"Build frequencies.\n",
        "    Input:\n",
        "        tweets: a list of tweets\n",
        "        ys: an m x 1 array with the sentiment label of each tweet\n",
        "            (either 0 or 1)\n",
        "    Output:\n",
        "        freqs: a dictionary mapping each (word, sentiment) pair to its\n",
        "        frequency\n",
        "    \"\"\"\n",
        "    # Convert np array to list since zip needs an iterable.\n",
        "    # The squeeze is necessary or the list ends up with one element.\n",
        "    # Also note that this is just a NOP if ys is already a list.\n",
        "  yslist = np.squeeze(ys).tolist()\n",
        "\n",
        "\n",
        "  freqs={}\n",
        "  for y,tweet in zip(yslist,tweets):\n",
        "    for word in processTweet(tweet):\n",
        "      pair=(word,y)\n",
        "      if pair in freqs:\n",
        "        freqs[pair] += 1\n",
        "      else:\n",
        "        freqs[pair]=1\n",
        "  return freqs"
      ],
      "execution_count": 24,
      "outputs": []
    },
    {
      "cell_type": "code",
      "metadata": {
        "id": "UsdfayZIc_N7",
        "colab_type": "code",
        "colab": {}
      },
      "source": [
        "freqs = build_freqs(tweets,labels)"
      ],
      "execution_count": 25,
      "outputs": []
    },
    {
      "cell_type": "code",
      "metadata": {
        "id": "l99rITyBdU0h",
        "colab_type": "code",
        "colab": {
          "base_uri": "https://localhost:8080/",
          "height": 67
        },
        "outputId": "c195f168-d9d0-444b-ff69-cb784441107a"
      },
      "source": [
        "# check data type\n",
        "print(f'type(freqs) = {type(freqs)}')\n",
        "\n",
        "# check length of the dictionary\n",
        "print(f'len(freqs) = {len(freqs)}')\n",
        "\n",
        "print(freqs[('week',1.0)])"
      ],
      "execution_count": 26,
      "outputs": [
        {
          "output_type": "stream",
          "text": [
            "type(freqs) = <class 'dict'>\n",
            "len(freqs) = 13075\n",
            "83\n"
          ],
          "name": "stdout"
        }
      ]
    },
    {
      "cell_type": "code",
      "metadata": {
        "id": "XtjdhrMWeYna",
        "colab_type": "code",
        "colab": {
          "base_uri": "https://localhost:8080/",
          "height": 34
        },
        "outputId": "f9c482ac-15d8-44d6-c8f6-4d9e60701ad0"
      },
      "source": [
        "print(freqs[('followfriday', 1.0)])"
      ],
      "execution_count": 75,
      "outputs": [
        {
          "output_type": "stream",
          "text": [
            "23\n"
          ],
          "name": "stdout"
        }
      ]
    },
    {
      "cell_type": "code",
      "metadata": {
        "id": "LXsPW01CiA82",
        "colab_type": "code",
        "colab": {
          "base_uri": "https://localhost:8080/",
          "height": 386
        },
        "outputId": "cb4facf1-f5dc-4da0-96d3-9012e6d35f9b"
      },
      "source": [
        "keys = ['happi', 'merri', 'nice', 'good', 'bad', 'sad', 'mad', 'best', 'pretti',\n",
        "        '❤', ':)', ':(', '😒', '😬', '😄', '😍', '♛',\n",
        "        'song', 'idea', 'power', 'play', 'magnific']\n",
        "data = []\n",
        "for word in keys:\n",
        "\n",
        "    pos = 0\n",
        "    neg = 0\n",
        "    if (word, 1) in freqs:\n",
        "        pos = freqs[(word, 1)]\n",
        "    if (word, 0) in freqs:\n",
        "        neg = freqs[(word, 0)]\n",
        "        \n",
        "    data.append([word, pos, neg])\n",
        "    \n",
        "data"
      ],
      "execution_count": 28,
      "outputs": [
        {
          "output_type": "execute_result",
          "data": {
            "text/plain": [
              "[['happi', 211, 25],\n",
              " ['merri', 1, 0],\n",
              " ['nice', 98, 19],\n",
              " ['good', 238, 101],\n",
              " ['bad', 18, 73],\n",
              " ['sad', 5, 123],\n",
              " ['mad', 4, 11],\n",
              " ['best', 65, 22],\n",
              " ['pretti', 20, 15],\n",
              " ['❤', 29, 21],\n",
              " [':)', 3568, 2],\n",
              " [':(', 1, 4571],\n",
              " ['😒', 1, 3],\n",
              " ['😬', 0, 2],\n",
              " ['😄', 5, 1],\n",
              " ['😍', 2, 1],\n",
              " ['♛', 0, 210],\n",
              " ['song', 22, 27],\n",
              " ['idea', 26, 10],\n",
              " ['power', 7, 6],\n",
              " ['play', 46, 48],\n",
              " ['magnific', 2, 0]]"
            ]
          },
          "metadata": {
            "tags": []
          },
          "execution_count": 28
        }
      ]
    },
    {
      "cell_type": "code",
      "metadata": {
        "id": "fBUGF2dRicYG",
        "colab_type": "code",
        "colab": {
          "base_uri": "https://localhost:8080/",
          "height": 564
        },
        "outputId": "96c6aab2-9de6-42cd-98a3-8d3dfcd0f4d8"
      },
      "source": [
        "fig, ax = plt.subplots(figsize = (8, 8))\n",
        "\n",
        "# convert positive raw counts to logarithmic scale. we add 1 to avoid log(0)\n",
        "x = np.log([x[1] + 1 for x in data])  \n",
        "y = np.log([x[2] + 1 for x in data]) \n",
        "\n",
        "ax.scatter(x, y)  \n",
        "\n",
        "plt.xlabel(\"Log Positive count\")\n",
        "plt.ylabel(\"Log Negative count\")\n",
        "\n",
        "# Add the word as the label at the same position as you added the points just before\n",
        "for i in range(0, len(data)):\n",
        "    ax.annotate(data[i][0], (x[i], y[i]), fontsize=12)\n",
        "\n",
        "ax.plot([0, 9], [0, 9], color = 'red') # Plot the red line that divides the 2 areas.\n",
        "plt.show()"
      ],
      "execution_count": 29,
      "outputs": [
        {
          "output_type": "stream",
          "text": [
            "/usr/local/lib/python3.6/dist-packages/matplotlib/backends/backend_agg.py:214: RuntimeWarning: Glyph 128556 missing from current font.\n",
            "  font.set_text(s, 0.0, flags=flags)\n",
            "/usr/local/lib/python3.6/dist-packages/matplotlib/backends/backend_agg.py:183: RuntimeWarning: Glyph 128556 missing from current font.\n",
            "  font.set_text(s, 0, flags=flags)\n"
          ],
          "name": "stderr"
        },
        {
          "output_type": "display_data",
          "data": {
            "image/png": "[encoded data removed]",
            "text/plain": [
              "<Figure size 576x576 with 1 Axes>"
            ]
          },
          "metadata": {
            "tags": [],
            "needs_background": "light"
          }
        }
      ]
    },
    {
      "cell_type": "markdown",
      "metadata": {
        "id": "FnFL1G-OjCRA",
        "colab_type": "text"
      },
      "source": [
        "# Extracting Features"
      ]
    },
    {
      "cell_type": "code",
      "metadata": {
        "id": "dlRrFTFjl1cH",
        "colab_type": "code",
        "colab": {}
      },
      "source": [
        "from os import getcwd\n",
        "import pandas as pd                 # Library for Dataframes \n"
      ],
      "execution_count": 30,
      "outputs": []
    },
    {
      "cell_type": "code",
      "metadata": {
        "id": "eGKnpW1yl2JZ",
        "colab_type": "code",
        "colab": {
          "base_uri": "https://localhost:8080/",
          "height": 50
        },
        "outputId": "32895090-9583-4ffe-fe8a-bc262271c3e4"
      },
      "source": [
        "test_pos = all_positive_tweets[4000:]\n",
        "train_pos = all_positive_tweets[:4000]\n",
        "test_neg = all_negative_tweets[4000:]\n",
        "train_neg = all_negative_tweets[:4000]\n",
        "\n",
        "train_x = train_pos + train_neg \n",
        "test_x = test_pos + test_neg\n",
        "\n",
        "train_y = np.append(np.ones((len(train_pos), 1)), np.zeros((len(train_neg), 1)), axis=0)\n",
        "test_y = np.append(np.ones((len(test_pos), 1)), np.zeros((len(test_neg), 1)), axis=0)\n",
        "\n",
        "print(\"train_y.shape = \" + str(train_y.shape))\n",
        "print(\"test_y.shape = \" + str(test_y.shape))"
      ],
      "execution_count": 32,
      "outputs": [
        {
          "output_type": "stream",
          "text": [
            "train_y.shape = (8000, 1)\n",
            "test_y.shape = (2000, 1)\n"
          ],
          "name": "stdout"
        }
      ]
    },
    {
      "cell_type": "code",
      "metadata": {
        "id": "T4YmQeELLuGM",
        "colab_type": "code",
        "colab": {
          "base_uri": "https://localhost:8080/",
          "height": 50
        },
        "outputId": "c6e45bbe-a3c2-4a07-a6e3-857972e4da6c"
      },
      "source": [
        "freqs = build_freqs(train_x, train_y)\n",
        "\n",
        "print(\"type(freqs) = \" + str(type(freqs)))\n",
        "print(\"len(freqs) = \" + str(len(freqs.keys())))"
      ],
      "execution_count": 33,
      "outputs": [
        {
          "output_type": "stream",
          "text": [
            "type(freqs) = <class 'dict'>\n",
            "len(freqs) = 11345\n"
          ],
          "name": "stdout"
        }
      ]
    },
    {
      "cell_type": "code",
      "metadata": {
        "id": "GOHo7viUMM9t",
        "colab_type": "code",
        "colab": {}
      },
      "source": [
        "def sigmoid(z):    \n",
        "    h = 1 / ( 1 + np.exp(-z))       \n",
        "    return h"
      ],
      "execution_count": 34,
      "outputs": []
    },
    {
      "cell_type": "markdown",
      "metadata": {
        "id": "J6BXxPKdODWy",
        "colab_type": "text"
      },
      "source": [
        "x: matrix of features which is (m,n+1) \n",
        "y: corresponding labels of the input matrix x, dimensions (m,1)\n",
        "theta: weight vector of dimension (n+1,1)"
      ]
    },
    {
      "cell_type": "code",
      "metadata": {
        "id": "fMgS_jbRMcw8",
        "colab_type": "code",
        "colab": {}
      },
      "source": [
        "def gradientDescent(x,y,theta,alpha,num_iters,print_cost=True):\n",
        "  m=x.shape[0]\n",
        "  for i in range(num_iters):\n",
        "    z=np.dot(x,theta)\n",
        "    h=sigmoid(z)\n",
        "    J = -(((np.dot(y.T,np.log(h)))+(np.dot((1-y).T,np.log((1-h))))))*(1.0/m)\n",
        "    theta = theta - (alpha*(np.dot(x.T,(h-y)))) *(1.0/m)\n",
        "    if(i%100==0):\n",
        "      print(\"iteration number :\",i,\" cost : \",J[0])\n",
        "  \n",
        "  J=float(J)\n",
        "  return J,theta"
      ],
      "execution_count": 43,
      "outputs": []
    },
    {
      "cell_type": "code",
      "metadata": {
        "id": "GzTGFOEWOWWK",
        "colab_type": "code",
        "colab": {}
      },
      "source": [
        "def extract_features(tweet,freq):\n",
        "  tweet_1=processTweet(tweet)\n",
        "  x=np.zeros((1,3))\n",
        "  x[0,0]=1\n",
        "  for word in tweet_1:\n",
        "    x[0,1] += freqs.get((word,1.0),0)\n",
        "    x[0,2] += freqs.get((word,0.0),0)\n",
        "  assert(x.shape == (1, 3))\n",
        "  return x"
      ],
      "execution_count": 40,
      "outputs": []
    },
    {
      "cell_type": "markdown",
      "metadata": {
        "id": "sTZ64OFDPQkT",
        "colab_type": "text"
      },
      "source": [
        "# Training Model"
      ]
    },
    {
      "cell_type": "code",
      "metadata": {
        "id": "A5P_M0WhOY07",
        "colab_type": "code",
        "colab": {
          "base_uri": "https://localhost:8080/",
          "height": 84
        },
        "outputId": "e058fc1b-0f05-4ccd-e72a-8cec79e4f3b4"
      },
      "source": [
        "\n",
        "X = np.zeros((len(train_x), 3))\n",
        "for i in range(len(train_x)):\n",
        "    \n",
        "    X[i, :]= extract_features(train_x[i], freqs)\n",
        "print(extract_features(train_x[500], freqs))\n",
        "print(X[500])\n",
        "print(X.shape)\n",
        "\n",
        "Y = train_y\n",
        "print(train_y.shape)"
      ],
      "execution_count": 51,
      "outputs": [
        {
          "output_type": "stream",
          "text": [
            "[[  1. 501.   2.]]\n",
            "[  1. 501.   2.]\n",
            "(8000, 3)\n",
            "(8000, 1)\n"
          ],
          "name": "stdout"
        }
      ]
    },
    {
      "cell_type": "code",
      "metadata": {
        "id": "-3o5tdstPIS_",
        "colab_type": "code",
        "colab": {
          "base_uri": "https://localhost:8080/",
          "height": 302
        },
        "outputId": "659b1af7-2cf5-4ace-fae5-225bf7b138ef"
      },
      "source": [
        "J, theta = gradientDescent(X, Y, np.zeros((3, 1)), 1e-9, 1500)\n",
        "print(f\"The cost after training is {J:.8f}.\")\n",
        "print(f\"The resulting vector of weights is {[round(t, 8) for t in np.squeeze(theta)]}\")"
      ],
      "execution_count": 67,
      "outputs": [
        {
          "output_type": "stream",
          "text": [
            "iteration number : 0  cost :  [0.69314718]\n",
            "iteration number : 100  cost :  [0.60054966]\n",
            "iteration number : 200  cost :  [0.53095934]\n",
            "iteration number : 300  cost :  [0.47715656]\n",
            "iteration number : 400  cost :  [0.43448393]\n",
            "iteration number : 500  cost :  [0.39990529]\n",
            "iteration number : 600  cost :  [0.37137741]\n",
            "iteration number : 700  cost :  [0.34748093]\n",
            "iteration number : 800  cost :  [0.32720163]\n",
            "iteration number : 900  cost :  [0.3097966]\n",
            "iteration number : 1000  cost :  [0.29471002]\n",
            "iteration number : 1100  cost :  [0.2815182]\n",
            "iteration number : 1200  cost :  [0.2698929]\n",
            "iteration number : 1300  cost :  [0.25957616]\n",
            "iteration number : 1400  cost :  [0.25036269]\n",
            "The cost after training is 0.24216577.\n",
            "The resulting vector of weights is [7e-08, 0.0005239, -0.00055517]\n"
          ],
          "name": "stdout"
        }
      ]
    },
    {
      "cell_type": "markdown",
      "metadata": {
        "id": "S5w325SBSKyA",
        "colab_type": "text"
      },
      "source": [
        "# Predicting and Testing"
      ]
    },
    {
      "cell_type": "code",
      "metadata": {
        "id": "jwLhR5UDR38Z",
        "colab_type": "code",
        "colab": {}
      },
      "source": [
        "def predict_tweet(tweet, freqs, theta):\n",
        "  x = extract_features(tweet,freqs)\n",
        "  y_pred = sigmoid(np.dot(x,theta))\n",
        "  return y_pred"
      ],
      "execution_count": 53,
      "outputs": []
    },
    {
      "cell_type": "code",
      "metadata": {
        "id": "Y82jsp_uSoYD",
        "colab_type": "code",
        "colab": {}
      },
      "source": [
        "def test_logistic_regression(test_x, test_y, freqs, theta):\n",
        "\n",
        "    y_hat = []\n",
        "    \n",
        "    for tweet in test_x:\n",
        "        y_pred = predict_tweet(tweet, freqs, theta)\n",
        "        \n",
        "        if y_pred > 0.5:\n",
        "            y_hat.append(1)\n",
        "        else:\n",
        "            y_hat.append(0)\n",
        "    count=0\n",
        "    for n in range(len(y_hat)):\n",
        "        if((np.asarray(y_hat))[n]==np.squeeze(test_y)[n]):\n",
        "            count+=1\n",
        "    accuracy = count/len(y_hat)\n",
        "\n",
        "    return accuracy"
      ],
      "execution_count": 65,
      "outputs": []
    },
    {
      "cell_type": "code",
      "metadata": {
        "id": "ICWbpFhkTBwz",
        "colab_type": "code",
        "colab": {
          "base_uri": "https://localhost:8080/",
          "height": 34
        },
        "outputId": "17abee8f-fe25-4c59-dd86-73652f14ea81"
      },
      "source": [
        "tmp_accuracy = test_logistic_regression(test_x, test_y, freqs, theta)\n",
        "print(f\"Logistic regression model's accuracy = {tmp_accuracy:.4f}\")"
      ],
      "execution_count": 68,
      "outputs": [
        {
          "output_type": "stream",
          "text": [
            "Logistic regression model's accuracy = 0.9950\n"
          ],
          "name": "stdout"
        }
      ]
    },
    {
      "cell_type": "markdown",
      "metadata": {
        "id": "6_6fFr7ETMb1",
        "colab_type": "text"
      },
      "source": [
        "Predict any tweet - "
      ]
    },
    {
      "cell_type": "code",
      "metadata": {
        "id": "0CjBPvyyTDHT",
        "colab_type": "code",
        "colab": {
          "base_uri": "https://localhost:8080/",
          "height": 67
        },
        "outputId": "eaa19154-4249-40a4-c047-5fd68cd681fb"
      },
      "source": [
        "my_tweet = 'This is a ridiculously bright movie. The plot was terrible and I was sad until the ending!'\n",
        "print(processTweet(my_tweet))\n",
        "y_hat = predict_tweet(my_tweet, freqs, theta)\n",
        "print(y_hat)\n",
        "if y_hat > 0.5:\n",
        "    print('Positive sentiment')\n",
        "else: \n",
        "    print('Negative sentiment')"
      ],
      "execution_count": 63,
      "outputs": [
        {
          "output_type": "stream",
          "text": [
            "['ridicul', 'bright', 'movi', 'plot', 'terribl', 'sad', 'end']\n",
            "[[0.48139093]]\n",
            "Negative sentiment\n"
          ],
          "name": "stdout"
        }
      ]
    },
    {
      "cell_type": "code",
      "metadata": {
        "id": "kdmoXmASTSc8",
        "colab_type": "code",
        "colab": {}
      },
      "source": [
        ""
      ],
      "execution_count": null,
      "outputs": []
    }
  ]
}